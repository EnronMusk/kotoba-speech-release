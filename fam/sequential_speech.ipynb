{
 "cells": [
  {
   "cell_type": "code",
   "execution_count": 1,
   "metadata": {},
   "outputs": [
    {
     "name": "stderr",
     "output_type": "stream",
     "text": [
      "/root/kotoba-speech-release/myenv/lib/python3.10/site-packages/tqdm/auto.py:21: TqdmWarning: IProgress not found. Please update jupyter and ipywidgets. See https://ipywidgets.readthedocs.io/en/stable/user_install.html\n",
      "  from .autonotebook import tqdm as notebook_tqdm\n"
     ]
    },
    {
     "name": "stdout",
     "output_type": "stream",
     "text": [
      "using dtype=bfloat16\n"
     ]
    },
    {
     "name": "stderr",
     "output_type": "stream",
     "text": [
      "/root/kotoba-speech-release/myenv/lib/python3.10/site-packages/df/io.py:9: UserWarning: `torchaudio.backend.common.AudioMetaData` has been moved to `torchaudio.AudioMetaData`. Please update the import path.\n",
      "  from torchaudio.backend.common import AudioMetaData\n"
     ]
    }
   ],
   "source": [
    "from fam.llm.fast_inference import TTS\n",
    "\n",
    "import warnings\n",
    "\n",
    "# Filter out user warnings\n",
    "warnings.filterwarnings(\"ignore\")"
   ]
  },
  {
   "cell_type": "code",
   "execution_count": 2,
   "metadata": {},
   "outputs": [
    {
     "name": "stdout",
     "output_type": "stream",
     "text": [
      "using dtype=bfloat16\n"
     ]
    },
    {
     "name": "stderr",
     "output_type": "stream",
     "text": [
      "Fetching 6 files: 100%|██████████| 6/6 [00:00<00:00, 59634.65it/s]\n",
      "Fetching 6 files: 100%|██████████| 6/6 [00:00<00:00, 24082.13it/s]\n"
     ]
    },
    {
     "name": "stdout",
     "output_type": "stream",
     "text": [
      "number of parameters: 14.07M\n",
      "\u001b[32m2024-04-25 02:12:28\u001b[0m | \u001b[1mINFO    \u001b[0m | \u001b[36mDF\u001b[0m | \u001b[1mRunning on torch 2.1.0+cu121\u001b[0m\n",
      "\u001b[32m2024-04-25 02:12:28\u001b[0m | \u001b[1mINFO    \u001b[0m | \u001b[36mDF\u001b[0m | \u001b[1mRunning on host 627a2bd7686c\u001b[0m\n",
      "\u001b[32m2024-04-25 02:12:28\u001b[0m | \u001b[1mINFO    \u001b[0m | \u001b[36mDF\u001b[0m | \u001b[1mGit commit: 866b660, branch: release\u001b[0m\n",
      "\u001b[32m2024-04-25 02:12:28\u001b[0m | \u001b[1mINFO    \u001b[0m | \u001b[36mDF\u001b[0m | \u001b[1mLoading model settings of DeepFilterNet3\u001b[0m\n",
      "\u001b[32m2024-04-25 02:12:28\u001b[0m | \u001b[1mINFO    \u001b[0m | \u001b[36mDF\u001b[0m | \u001b[1mUsing DeepFilterNet3 model at /root/.cache/DeepFilterNet/DeepFilterNet3\u001b[0m\n",
      "\u001b[32m2024-04-25 02:12:28\u001b[0m | \u001b[1mINFO    \u001b[0m | \u001b[36mDF\u001b[0m | \u001b[1mInitializing model `deepfilternet3`\u001b[0m\n",
      "\u001b[32m2024-04-25 02:12:28\u001b[0m | \u001b[1mINFO    \u001b[0m | \u001b[36mDF\u001b[0m | \u001b[1mFound checkpoint /root/.cache/DeepFilterNet/DeepFilterNet3/checkpoints/model_120.ckpt.best with epoch 120\u001b[0m\n",
      "\u001b[32m2024-04-25 02:12:28\u001b[0m | \u001b[1mINFO    \u001b[0m | \u001b[36mDF\u001b[0m | \u001b[1mRunning on device cuda:0\u001b[0m\n",
      "\u001b[32m2024-04-25 02:12:28\u001b[0m | \u001b[1mINFO    \u001b[0m | \u001b[36mDF\u001b[0m | \u001b[1mModel loaded\u001b[0m\n",
      "/root/.cache/huggingface/hub/models--metavoiceio--metavoice-1B-v0.1/snapshots/d7237c5cb970da187623738f2957b338f3b0889a/first_stage.pt\n",
      "Using device=cuda\n",
      "Loading model ...\n",
      "using dtype=bfloat16\n",
      "Time to load model: 3.80 seconds\n",
      "Compiling...Can take up to 2 mins.\n"
     ]
    },
    {
     "name": "stderr",
     "output_type": "stream",
     "text": [
      "  0%|          | 0/199 [00:00<?, ?it/s][2024-04-25 02:13:26,978] [1/0] torch._inductor.utils: [WARNING] not enough SMs to use max_autotune_gemm mode\n",
      "100%|██████████| 199/199 [00:28<00:00,  7.09it/s]"
     ]
    },
    {
     "name": "stdout",
     "output_type": "stream",
     "text": [
      "Compilation time: 65.15 seconds\n"
     ]
    },
    {
     "name": "stderr",
     "output_type": "stream",
     "text": [
      "\n"
     ]
    }
   ],
   "source": [
    "model = TTS(model_name='metavoiceio/metavoice-1B-v0.1')"
   ]
  },
  {
   "cell_type": "markdown",
   "metadata": {},
   "source": [
    "## **Testing the new synthesizer** ##"
   ]
  },
  {
   "cell_type": "code",
   "execution_count": 15,
   "metadata": {},
   "outputs": [
    {
     "name": "stderr",
     "output_type": "stream",
     "text": [
      " 63%|██████▎   | 1262/1994 [00:17<00:09, 73.82it/s]\n"
     ]
    },
    {
     "name": "stdout",
     "output_type": "stream",
     "text": [
      "Time for 1st stage LLM inference: 17.12 sec total, 73.78 tokens/sec\n",
      "Bandwidth achieved: 184.22 GB/s\n",
      "Memory used: 20.10 GB\n",
      "\n",
      "WARNING: Number of tokens at each hierarchy must be of the same length!\n",
      "Truncating to min length of 630 tokens from 632 max.\n",
      "[632, 630]\n"
     ]
    },
    {
     "name": "stderr",
     "output_type": "stream",
     "text": [
      "non-causal batching: 100%|██████████| 1/1 [00:00<00:00, 175.64it/s]\n"
     ]
    },
    {
     "name": "stdout",
     "output_type": "stream",
     "text": [
      "Text: The university of waterloo is a publicly funded research university located in ontario canada.\n",
      "\n",
      "Saved audio to /root/kotoba-speech-release/fam/outputs/synth_The_university_of_waterlo_5fac4efc-0d47-4b3a-83c5-5fef86c8602d.wav\n",
      "\n",
      "Saved audio to /root/kotoba-speech-release/fam/outputs/synth_The_university_of_waterlo_5fac4efc-0d47-4b3a-83c5-5fef86c8602d.wav\n",
      "\n",
      "Total time to synth (s): 21.697964191436768\n",
      "Real-time factor: 2.58\n"
     ]
    },
    {
     "data": {
      "text/plain": [
       "'/root/kotoba-speech-release/fam/outputs/synth_The_university_of_waterlo_5fac4efc-0d47-4b3a-83c5-5fef86c8602d.wav'"
      ]
     },
     "execution_count": 15,
     "metadata": {},
     "output_type": "execute_result"
    }
   ],
   "source": [
    "model.synthesiseSequential(text=\"The university of waterloo is a publicly funded research university located in ontario canada.\", spk_ref_path=\"/root/kotoba-speech-release/fam/llm/waterloov2.mp3\")"
   ]
  },
  {
   "cell_type": "code",
   "execution_count": 4,
   "metadata": {},
   "outputs": [
    {
     "name": "stderr",
     "output_type": "stream",
     "text": [
      " 23%|██▎       | 466/2027 [00:06<00:21, 74.20it/s]\n"
     ]
    },
    {
     "name": "stdout",
     "output_type": "stream",
     "text": [
      "Time for 1st stage LLM inference: 6.30 sec total, 74.09 tokens/sec\n",
      "Bandwidth achieved: 184.99 GB/s\n",
      "Memory used: 15.49 GB\n",
      "\n",
      "WARNING: Number of tokens at each hierarchy must be of the same length!\n",
      "Truncating to min length of 232 tokens from 234 max.\n",
      "[234, 232]\n"
     ]
    },
    {
     "name": "stderr",
     "output_type": "stream",
     "text": [
      "non-causal batching: 100%|██████████| 1/1 [00:00<00:00, 164.99it/s]\n"
     ]
    },
    {
     "name": "stdout",
     "output_type": "stream",
     "text": [
      "Text: I have a black cat and waterloo is cool.\n",
      "\n",
      "Saved audio to /root/kotoba-speech-release/fam/outputs/synth_I_have_a_black_cat_and_wa_a893066c-83fe-4e0b-ade2-062bd63bd669.wav\n",
      "\n",
      "Saved audio to /root/kotoba-speech-release/fam/outputs/synth_I_have_a_black_cat_and_wa_a893066c-83fe-4e0b-ade2-062bd63bd669.wav\n",
      "\n",
      "Total time to synth (s): 8.37227463722229\n",
      "Real-time factor: 2.71\n"
     ]
    },
    {
     "data": {
      "text/plain": [
       "'/root/kotoba-speech-release/fam/outputs/synth_I_have_a_black_cat_and_wa_a893066c-83fe-4e0b-ade2-062bd63bd669.wav'"
      ]
     },
     "execution_count": 4,
     "metadata": {},
     "output_type": "execute_result"
    }
   ],
   "source": [
    "model.synthesiseSequential(text=\"I have a black cat and waterloo is cool.\", spk_ref_path=\"/root/kotoba-speech-release/fam/llm/black_cat.mp3\")"
   ]
  },
  {
   "cell_type": "markdown",
   "metadata": {},
   "source": [
    "**Testing audio tokenizer**"
   ]
  },
  {
   "cell_type": "code",
   "execution_count": 5,
   "metadata": {},
   "outputs": [
    {
     "name": "stderr",
     "output_type": "stream",
     "text": [
      "Fetching 6 files: 100%|██████████| 6/6 [00:00<00:00, 71089.90it/s]\n"
     ]
    }
   ],
   "source": [
    "from fam.llm.decoders import EncodecDecoder\n",
    "from fam.llm.inference import TiltedEncodec\n",
    "import torch\n",
    "from pathlib import Path\n",
    "from huggingface_hub import snapshot_download\n",
    "from fam.quantiser.text.tokenise import TrainedBPETokeniser\n",
    "\n",
    "data_adapter_second_stage = TiltedEncodec(end_of_audio_token=1024)\n",
    "_other_model_dir = snapshot_download(repo_id=\"metavoiceio/metavoice-1B-v0.1\")\n",
    "checkpoint_path = Path(f\"{_other_model_dir}/first_stage.pt\")\n",
    "\n",
    "checkpoint = torch.load(str(checkpoint_path), mmap=True, weights_only=False)\n",
    "tokenizer_info = checkpoint.get(\"meta\", {}).get(\"tokenizer\", {})\n",
    "tokenizer = TrainedBPETokeniser(**tokenizer_info)\n",
    "\n",
    "enc = EncodecDecoder(data_adapter_fn=data_adapter_second_stage.decode, output_dir=\"/root/kotoba-speech-release/fam/outputs\", tokeniser_decode_fn=tokenizer)\n",
    "\n",
    "toks = enc.get_tokens(audio_path=\"/root/kotoba-speech-release/fam/llm/waterloostuffs.mp3\")"
   ]
  },
  {
   "cell_type": "code",
   "execution_count": 6,
   "metadata": {},
   "outputs": [
    {
     "name": "stdout",
     "output_type": "stream",
     "text": [
      "[2453, 2170, 2517, 2347, 2404, 2365, 2482, 2561]\n"
     ]
    }
   ],
   "source": [
    "print(tokenizer.encode(\"Hey there goose man\"))"
   ]
  },
  {
   "cell_type": "code",
   "execution_count": 8,
   "metadata": {},
   "outputs": [
    {
     "data": {
      "text/plain": [
       "8"
      ]
     },
     "execution_count": 8,
     "metadata": {},
     "output_type": "execute_result"
    }
   ],
   "source": [
    "len(toks)"
   ]
  },
  {
   "cell_type": "code",
   "execution_count": 9,
   "metadata": {},
   "outputs": [
    {
     "data": {
      "text/plain": [
       "548"
      ]
     },
     "execution_count": 9,
     "metadata": {},
     "output_type": "execute_result"
    }
   ],
   "source": [
    "len(toks[0])"
   ]
  }
 ],
 "metadata": {
  "kernelspec": {
   "display_name": "myenv",
   "language": "python",
   "name": "python3"
  },
  "language_info": {
   "codemirror_mode": {
    "name": "ipython",
    "version": 3
   },
   "file_extension": ".py",
   "mimetype": "text/x-python",
   "name": "python",
   "nbconvert_exporter": "python",
   "pygments_lexer": "ipython3",
   "version": "3.10.12"
  }
 },
 "nbformat": 4,
 "nbformat_minor": 2
}
